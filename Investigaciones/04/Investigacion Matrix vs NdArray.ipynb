{
 "cells": [
  {
   "cell_type": "markdown",
   "metadata": {},
   "source": [
    "## ¿Qué es un ndarray?\n",
    "Un objeto ndarray en numpy es una estructura de n dimensiones la cual tiene tiene un indice basado en cero. Es muy importante dentro de numpy, ya que esta optimizada para realizar un conjunto de operaciones definidas dentro de la biblioteca de numpy. Cada elemento dentro de esta estructura ocupa el mismo espacio y puede tener un tipo en específico.\n",
    "Algunas de las operaciones que podemos efectuar son:\n",
    "1. Copy\n",
    "2. Slicing\n",
    "3. Entre otras.."
   ]
  },
  {
   "cell_type": "code",
   "execution_count": 5,
   "metadata": {},
   "outputs": [
    {
     "name": "stdout",
     "output_type": "stream",
     "text": [
      "[[ 4 16]\n",
      " [ 3  9]]\n",
      "[[ 4 16]\n",
      " [ 3  9]]\n",
      "4\n"
     ]
    }
   ],
   "source": [
    "import numpy as np \n",
    "#Generamos un arreglo bidimencional\n",
    "x = np.array([[4,16], [3, 9]]) \n",
    "print (x)\n",
    "#Copiamos el arreglo a otra variable\n",
    "y=x.copy()\n",
    "\n",
    "print (y)\n",
    "\n",
    "z=np.array([1,2,3,4]);\n",
    "#Efectuar slicing\n",
    "print(z[-1])"
   ]
  },
  {
   "cell_type": "markdown",
   "metadata": {},
   "source": [
    "## ¿Qué es un np.matrix?\n",
    "Es una estructura diseñada para trabajar con matrices, como matemáticamente las conocemos.\n",
    "Provee un conjunto de operaciones diseñadas para trabajar con matrices como por ejemplo matriz indentidad, matriz de ceros, diagonales, diagonal princpal, y convertir arrays en matrices.\n",
    "\n",
    "A continuación veremos cómo se declara una matriz con los arreglos que ya conocemos.\n"
   ]
  },
  {
   "cell_type": "code",
   "execution_count": 6,
   "metadata": {},
   "outputs": [
    {
     "ename": "SyntaxError",
     "evalue": "Missing parentheses in call to 'print'. Did you mean print(x)? (<ipython-input-6-f654e3f72cf4>, line 2)",
     "output_type": "error",
     "traceback": [
      "\u001b[1;36m  File \u001b[1;32m\"<ipython-input-6-f654e3f72cf4>\"\u001b[1;36m, line \u001b[1;32m2\u001b[0m\n\u001b[1;33m    print x\u001b[0m\n\u001b[1;37m          ^\u001b[0m\n\u001b[1;31mSyntaxError\u001b[0m\u001b[1;31m:\u001b[0m Missing parentheses in call to 'print'. Did you mean print(x)?\n"
     ]
    }
   ],
   "source": [
    "x = np.matrix([[5, 6, 7], [4, 6]]) \n",
    "print x\n"
   ]
  },
  {
   "cell_type": "markdown",
   "metadata": {},
   "source": [
    "## Diferencias\n",
    "Los ndarray son más rápidos que las matrices, en cuestión de rendimiento. Sin embargo, las matrices contienen operaciones predefinidas las cuales podemos utilizar y familiarizarnos más rápido ya que se acoplan a nuestros conocimientos de matemática.\n",
    "\n",
    "\n",
    "Actualmente la documentación de numpy sugiere el uso de la clase ndarray en vez de la clase matrix.\n",
    "\n",
    "# # Bibliografía\n",
    "https://www.tutorialspoint.com/numpy/numpy_ndarray_object.htm\n",
    "https://www.geeksforgeeks.org/numpy-matrix-python/\n",
    "https://stackoverflow.com/questions/16929211/numpy-np-array-versus-np-matrix-performance"
   ]
  }
 ],
 "metadata": {
  "kernelspec": {
   "display_name": "Python 3",
   "language": "python",
   "name": "python3"
  },
  "language_info": {
   "codemirror_mode": {
    "name": "ipython",
    "version": 3
   },
   "file_extension": ".py",
   "mimetype": "text/x-python",
   "name": "python",
   "nbconvert_exporter": "python",
   "pygments_lexer": "ipython3",
   "version": "3.7.2"
  }
 },
 "nbformat": 4,
 "nbformat_minor": 2
}
