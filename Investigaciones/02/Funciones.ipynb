{
 "cells": [
  {
   "cell_type": "markdown",
   "metadata": {},
   "source": [
    "# Funciones en Python\n",
    "Como en otros lenguajes, Python es capaz de procesar funciones o procedimientos. Son bloques de código predefinidos los cuales se pueden ejecutar múltiples veces. Este bloque de código es ejecutado cada vez que es invocado, por lo que nos evita escribir el mismo código más de una vez. Las funciones pueden o no tener entradas, conocidas como parámetros, los cuales son procesados por esta. De igual forma, la función puede tener una salida explícita.Toda función debe empezar con la palabra reservada def, luego un identificador, y los parámetros. A continuación podemos ver un ejemplo muy básico para una función."
   ]
  },
  {
   "cell_type": "code",
   "execution_count": 58,
   "metadata": {},
   "outputs": [],
   "source": [
    "def funcionCuadratica(x):\n",
    "    return(x*x)"
   ]
  },
  {
   "cell_type": "markdown",
   "metadata": {},
   "source": [
    "Ya hemos definido nuestra primera función. Como podemos ver, la función tiene el nombre de funcionCuadratica, el cual es usado para hacer referencia a ella cuando necesitemos usarla. Tiene un parámetro (en este caso x) el cual es procesado por el bloque de código interno, para posteriormente ser usado como la salida. En pocas palabras, los parámetros son las entradas de nuestras funciones. Para poder probar nuestra función, ejecutamos el siguiente código."
   ]
  },
  {
   "cell_type": "code",
   "execution_count": 59,
   "metadata": {},
   "outputs": [
    {
     "name": "stdout",
     "output_type": "stream",
     "text": [
      "25\n"
     ]
    }
   ],
   "source": [
    "print (funcionCuadratica(5))"
   ]
  },
  {
   "cell_type": "markdown",
   "metadata": {},
   "source": [
    "# Parámetros posicionales\n",
    "Son parámetros que como en otros lenguajes, dependen de la posición en la que están en la definición de la función. No debemos especificar un nombre a la hora de invocar. Por lo tanto, se deben de colocar en ese mismo orden cuando se llama la función. Veamos el siguiente ejemplo de una función que devuelve el nombre completo de una persona."
   ]
  },
  {
   "cell_type": "code",
   "execution_count": 60,
   "metadata": {},
   "outputs": [],
   "source": [
    "def obtenerNombreCompleto(nombre,apellido):\n",
    "        return nombre+\" \"+apellido"
   ]
  },
  {
   "cell_type": "markdown",
   "metadata": {},
   "source": [
    "Invocar a la función con sus parámetros por posición:"
   ]
  },
  {
   "cell_type": "code",
   "execution_count": 61,
   "metadata": {},
   "outputs": [
    {
     "name": "stdout",
     "output_type": "stream",
     "text": [
      "Juan Pérez\n"
     ]
    }
   ],
   "source": [
    "nombreCompleto = obtenerNombreCompleto(\"Juan\",\"Pérez\")\n",
    "print(nombreCompleto)"
   ]
  },
  {
   "cell_type": "markdown",
   "metadata": {},
   "source": [
    "Al llamar la función, no especificamos qué valor pertenecía a cual variable. Con respetar el orden, el resultado es el esperado."
   ]
  },
  {
   "cell_type": "markdown",
   "metadata": {},
   "source": [
    "# Parámetros nombrados\n",
    "Es otra forma de asignar los valores de entrada a una función al momento de invocarla. No importa el orden en que se coloquen, sin embargo, sí importa que se especifiquen los nombres de cada parámetro. A continuación vemos que obtenemos el mismo resultado a pesar del orden."
   ]
  },
  {
   "cell_type": "code",
   "execution_count": 62,
   "metadata": {},
   "outputs": [
    {
     "name": "stdout",
     "output_type": "stream",
     "text": [
      "Juan Pérez\n"
     ]
    }
   ],
   "source": [
    "nombreCompleto = obtenerNombreCompleto(apellido=\"Pérez\",nombre=\"Juan\")\n",
    "print(nombreCompleto)"
   ]
  },
  {
   "cell_type": "markdown",
   "metadata": {},
   "source": [
    "Podemos ver que la salida es la misma, ya que utilizamos parámetros nombrados, a pesar de que el orden en que declaramos las variables en la definición de la función es distinto."
   ]
  },
  {
   "cell_type": "markdown",
   "metadata": {},
   "source": [
    "# Retorno de múltiples valores\n",
    "Como vimos en nuestras funciones anteriores, una función generalmente puede devolver uno o ningún valor al ser ejecutada. La salida de una función se hace con la palabra reservada return. Sin embargo, podemos especificar más salidas para una función haciendo uso de una lista o tupla, que se define con los valores separados por comas. Veamos la siguiente función"
   ]
  },
  {
   "cell_type": "code",
   "execution_count": 63,
   "metadata": {},
   "outputs": [],
   "source": [
    "def promedioSuma(x,y):\n",
    "    suma=x+y\n",
    "    promedio=suma/2\n",
    "    return suma, promedio"
   ]
  },
  {
   "cell_type": "markdown",
   "metadata": {},
   "source": [
    "Ahora procedemos a llamar a la función, verificamos su tipo e imprimimos los valores:"
   ]
  },
  {
   "cell_type": "code",
   "execution_count": 64,
   "metadata": {},
   "outputs": [
    {
     "name": "stdout",
     "output_type": "stream",
     "text": [
      "<class 'tuple'>\n",
      "La suma es 8 y el promedio es 4.0\n"
     ]
    }
   ],
   "source": [
    "resultado=promedioSuma(5,3)\n",
    "print(type(resultado))\n",
    "print(\"La suma es \"+str(resultado[0])+\" y el promedio es \"+str(resultado[1]) )"
   ]
  },
  {
   "cell_type": "markdown",
   "metadata": {},
   "source": [
    "# Funciones como objetos\n",
    "Las funciones en python son muy versátiles. En este caso, tienen propiedades en común con los objetos de la mayoría de lenguajges de programación. Por ejemplo después de ser declarada, su definición puede ser asignada o referenciada a otro idenficiador."
   ]
  },
  {
   "cell_type": "code",
   "execution_count": 65,
   "metadata": {},
   "outputs": [
    {
     "name": "stdout",
     "output_type": "stream",
     "text": [
      "5\n",
      "5\n"
     ]
    }
   ],
   "source": [
    "#Definir la función\n",
    "def suma (x,y):\n",
    "    return x+y\n",
    "\n",
    "#Ejecutar\n",
    "print(suma(3,2))\n",
    "\n",
    "#asignar a un nuevo identificador\n",
    "funcion1=suma\n",
    "\n",
    "#llamando a la funcion por su nueva referencia\n",
    "print(funcion1(3,2))\n"
   ]
  },
  {
   "cell_type": "markdown",
   "metadata": {},
   "source": [
    "Otra de las propiedades de las funciones es que también manejan atributos, por ejemplo el nombre de la función en tipo string está almacenado en la variable __name__"
   ]
  },
  {
   "cell_type": "code",
   "execution_count": 66,
   "metadata": {},
   "outputs": [
    {
     "data": {
      "text/plain": [
       "'suma'"
      ]
     },
     "execution_count": 66,
     "metadata": {},
     "output_type": "execute_result"
    }
   ],
   "source": [
    "funcion1.__name__"
   ]
  },
  {
   "cell_type": "markdown",
   "metadata": {},
   "source": [
    "De igual forma podemos agregar atributos de manera arbitraria, incluso otra funcion."
   ]
  },
  {
   "cell_type": "code",
   "execution_count": 67,
   "metadata": {},
   "outputs": [
    {
     "name": "stdout",
     "output_type": "stream",
     "text": [
      "valor arbitrario\n",
      "4\n"
     ]
    }
   ],
   "source": [
    "#Agregar un atributo\n",
    "funcion1.atributo1=\"valor arbitrario\"\n",
    "print(funcion1.atributo1)\n",
    "\n",
    "#Definir una función\n",
    "def  multiplicar(x,y):\n",
    "    return x*y\n",
    "\n",
    "#Asignar la función\n",
    "funcion1.m=multiplicar\n",
    "\n",
    "print(funcion1.m(2,2))\n"
   ]
  },
  {
   "cell_type": "markdown",
   "metadata": {},
   "source": [
    "# Funciones  como parámetro\n",
    "Debido a la naturaleza de las funciones en Python, similares a un objeto, las funciones pueden ser pasadas como parámetros de otras funciones. Dependiendo de la función que se asigne al parámetro, ese bloque de código será ejecutado. En el siguiente ejemplo podemos comprobar cómo funciona."
   ]
  },
  {
   "cell_type": "code",
   "execution_count": 68,
   "metadata": {},
   "outputs": [
    {
     "data": {
      "text/plain": [
       "'El contribuyente Juan debe pagar: Q 12.0'"
      ]
     },
     "execution_count": 68,
     "metadata": {},
     "output_type": "execute_result"
    }
   ],
   "source": [
    "#Definimos la función que será nuestro parámetro\n",
    "def calcularIVA(x):\n",
    "    return x*0.12\n",
    "\n",
    "#Definimos la segunda función, la cual hará referencia a la primera\n",
    "def imprimirIVA(nombre, funcionImpuesto,valor):\n",
    "    return \"El contribuyente \"+nombre+\" debe pagar: Q \"+str(funcionImpuesto(valor))\n",
    "\n",
    "#Ejecutamos la llamada\n",
    "\n",
    "imprimirIVA(\"Juan\",calcularIVA,100)\n",
    "\n"
   ]
  },
  {
   "cell_type": "markdown",
   "metadata": {},
   "source": [
    "# Funciones anónimas/lambda\n",
    "Son funciones que no tienen un nombre explícito. En vez de utilizar la palabra reservada def, usan la palabra reservada lambda.\n"
   ]
  },
  {
   "cell_type": "code",
   "execution_count": 69,
   "metadata": {},
   "outputs": [
    {
     "name": "stdout",
     "output_type": "stream",
     "text": [
      "10.0\n"
     ]
    }
   ],
   "source": [
    "raiz = lambda x: x**(1/2)\n",
    "print(raiz(100))"
   ]
  },
  {
   "cell_type": "markdown",
   "metadata": {},
   "source": [
    "# Bibliografía\n",
    "https://www.pythonforbeginners.com/concatenation/string-concatenation-and-formatting-in-python\n",
    "https://www.tutorialspoint.com/python/python_functions.htm\n",
    "https://stackoverflow.com/questions/402504/how-to-determine-a-python-variables-type\n",
    "https://dbader.org/blog/python-first-class-functions\n",
    "https://www.programiz.com/python-programming/anonymous-function"
   ]
  }
 ],
 "metadata": {
  "kernelspec": {
   "display_name": "Python 3",
   "language": "python",
   "name": "python3"
  },
  "language_info": {
   "codemirror_mode": {
    "name": "ipython",
    "version": 3
   },
   "file_extension": ".py",
   "mimetype": "text/x-python",
   "name": "python",
   "nbconvert_exporter": "python",
   "pygments_lexer": "ipython3",
   "version": "3.7.2"
  }
 },
 "nbformat": 4,
 "nbformat_minor": 2
}
