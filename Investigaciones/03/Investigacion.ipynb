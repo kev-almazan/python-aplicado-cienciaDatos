{
 "cells": [
  {
   "cell_type": "markdown",
   "metadata": {},
   "source": [
    "## Investigación 2\n",
    "\n",
    "1. ¿Qué es una proyección vectorial?\n",
    "\n",
    "La proyección de un vector sobre un vector (no igual a cero, conocida también como componente del vector) de A en dirección de B es la proyección ortogonal de A sobre una línea recta parapela de A hacia B.\n",
    "\n",
    "Se puede calcular de la siguiente manera\n",
    "<img src=\"https://imagizer.imageshack.com/img924/1756/R2tV6c.png\">\n",
    "\n",
    "2. Definir una ufunc para calcular proyección vectorial sobre vectores de Numpy"
   ]
  },
  {
   "cell_type": "code",
   "execution_count": 10,
   "metadata": {},
   "outputs": [],
   "source": [
    "import numpy as np\n",
    "\n",
    "def proyeccion_vectorial(x,y):\n",
    "\n",
    "    #calcular vector con magnitud 1 conocido como vector unitario\n",
    "    y_ = y / np.linalg.norm(y)\n",
    "    #realizar el producto punto y la multiplicación tal y como indica la fórmula\n",
    "    return x.dot(y_)*y_"
   ]
  },
  {
   "cell_type": "markdown",
   "metadata": {},
   "source": [
    "3. Utilizando la función del punto anterior calcularla para vectores de ejemplo e interpretar o concluir sobre el resultado."
   ]
  },
  {
   "cell_type": "code",
   "execution_count": 14,
   "metadata": {},
   "outputs": [
    {
     "name": "stdout",
     "output_type": "stream",
     "text": [
      "[-0.32 -0.    0.24]\n",
      "[1.32 1.76]\n"
     ]
    }
   ],
   "source": [
    "#Vectores de 3 dimensiones\n",
    "a=np.array([1,-2,2])\n",
    "b=np.array([4,0,-3])\n",
    "\n",
    "print(proyeccion_vectorial(a,b))\n",
    "\n",
    "#Vectores bidimensionales\n",
    "x=np.array([1,2])\n",
    "y=np.array([3,4])\n",
    "\n",
    "print (proyeccion_vectorial(x,y))\n"
   ]
  },
  {
   "cell_type": "markdown",
   "metadata": {},
   "source": [
    "Las proyecciones anteriores nos indican que tan parecidos son nuestros vectores. Similar a una proyección de una forma sobre el suelo. Cada componente se proyecta sobre el otro vector, dando como resultado el nuevo vector.\n",
    "\n",
    "4.Investigar o proponer una aplicación o caso de uso de proyección vectorial en ciencia de datos u otras ciencia de tu interés donde se pueda aplicar programación numérica.\n",
    "\n",
    "#### Large Margin Classifier (Clasificador de gran margen)\n",
    "En el aprendizaje automático, un clasificador de margen es un clasificador que puede dar una distancia asociada desde el límite de decisión para cada ejemplo.\n",
    "\n",
    "En el caso de datos separables linealmente, el algoritmo escoge la linea que separa las clases con el margen mas grande.\n",
    "Usando cálculo, la longitud de un parámetro puede ser fácilmente obtenida de la fórmula inicial.\n",
    "\n",
    "<img src=\"https://cdn-images-1.medium.com/max/1600/0*27P1bM6AzQRYwZAO.png\">\n",
    "Básicamente, la proyección del vector X se multiplica por la longitud del parámetro theta y se optimiza para que sea máxima / mínima.\n",
    "\n",
    "\n",
    "\n",
    "\n",
    "Bibliografía\n",
    "https://docs.scipy.org/doc/numpy/reference/generated/numpy.linalg.norm.html\n",
    "https://onlinemschool.com/math/library/vector/projection/\n",
    "https://en.wikipedia.org/wiki/Vector_projection\n",
    "https://www.tutorialspoint.com/numpy/numpy_dot.htm\n",
    "https://towardsdatascience.com/machine-learning-basics-part-3-vector-machines-unsupervised-learning-and-principal-component-5b51aac6dd0c"
   ]
  },
  {
   "cell_type": "code",
   "execution_count": null,
   "metadata": {},
   "outputs": [],
   "source": []
  }
 ],
 "metadata": {
  "kernelspec": {
   "display_name": "Python 3",
   "language": "python",
   "name": "python3"
  },
  "language_info": {
   "codemirror_mode": {
    "name": "ipython",
    "version": 3
   },
   "file_extension": ".py",
   "mimetype": "text/x-python",
   "name": "python",
   "nbconvert_exporter": "python",
   "pygments_lexer": "ipython3",
   "version": "3.7.2"
  }
 },
 "nbformat": 4,
 "nbformat_minor": 2
}
