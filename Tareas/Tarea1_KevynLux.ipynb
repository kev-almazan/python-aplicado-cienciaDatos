{
 "cells": [
  {
   "cell_type": "code",
   "execution_count": 1,
   "metadata": {},
   "outputs": [],
   "source": [
    "import numpy as np \n",
    "import tensorflow as tf \n",
    "import matplotlib.pyplot as plt"
   ]
  },
  {
   "cell_type": "code",
   "execution_count": 2,
   "metadata": {},
   "outputs": [],
   "source": [
    "np.random.seed(101) \n",
    "tf.set_random_seed(101)"
   ]
  },
  {
   "cell_type": "code",
   "execution_count": 3,
   "metadata": {},
   "outputs": [],
   "source": [
    "#Cargar el conjunto de datos\n",
    "data=np.load('proyecto_training_data.npy')\n",
    "\n",
    "\n",
    "#Obtener el total de registros\n",
    "totalLen=len(data)\n",
    "\n",
    "#Calcular el largo de los registros de entrenamiento y de prueba\n",
    "trainingLen=int(totalLen*0.8)\n",
    "testLen=int(totalLen*0.2)\n",
    "\n",
    "#Obtener los datos de entrenamiento\n",
    "trainingData=data[0:trainingLen]\n",
    "\n",
    "#Eliminar los valores con valores no numéricos para funciones que no manejan nan\n",
    "trainingData_zero=np.nan_to_num(trainingData)\n",
    "testData=data[trainingLen:]\n",
    "\n",
    "x=trainingData[:,1]\n",
    "y=trainingData[:,0]\n",
    "\n",
    "\n",
    "  \n",
    "n = len(x) # Number of data points"
   ]
  },
  {
   "cell_type": "code",
   "execution_count": 4,
   "metadata": {},
   "outputs": [
    {
     "data": {
      "image/png": "[encoded data removed]",
      "text/plain": [
       "<Figure size 432x288 with 1 Axes>"
      ]
     },
     "metadata": {
      "needs_background": "light"
     },
     "output_type": "display_data"
    }
   ],
   "source": [
    "# Graficar datos de entrenamiento\n",
    "plt.scatter(x, y) \n",
    "plt.xlabel('x') \n",
    "plt.xlabel('y') \n",
    "plt.title(\"Datos de entrenamiento\") \n",
    "plt.show() "
   ]
  },
  {
   "cell_type": "code",
   "execution_count": null,
   "metadata": {},
   "outputs": [],
   "source": []
  },
  {
   "cell_type": "code",
   "execution_count": null,
   "metadata": {},
   "outputs": [],
   "source": []
  },
  {
   "cell_type": "code",
   "execution_count": 5,
   "metadata": {},
   "outputs": [],
   "source": [
    "learning_rate = 0.1\n",
    "training_epochs = 500"
   ]
  },
  {
   "cell_type": "code",
   "execution_count": null,
   "metadata": {},
   "outputs": [],
   "source": []
  },
  {
   "cell_type": "code",
   "execution_count": 6,
   "metadata": {},
   "outputs": [],
   "source": [
    "# Inicializar la sesión de tensorflow\n",
    "\n",
    "\n",
    "def regresionTensorFlow(x,y,learning_rate):\n",
    "    \n",
    "    X = tf.placeholder(\"float\") \n",
    "    Y = tf.placeholder(\"float\")\n",
    "    \n",
    "    \n",
    "    W = tf.Variable(40000.0, name = \"W\") \n",
    "    b = tf.Variable(-40000.0, name = \"b\")\n",
    "    \n",
    "    # Hipotesis\n",
    "    y_pred = tf.add(tf.multiply(X, W), b) \n",
    "\n",
    "    # Funcion de costo\n",
    "    cost = tf.reduce_mean(tf.pow(y_pred-Y, 2)) / (2 * n) \n",
    "\n",
    "    # Optimizador de gradiente\n",
    "    optimizer = tf.train.GradientDescentOptimizer(learning_rate).minimize(cost) \n",
    "\n",
    "    # Inicializar variables globales\n",
    "    init = tf.global_variables_initializer()\n",
    "    \n",
    "    with tf.Session() as sess: \n",
    "\n",
    "        # Inicializar variables\n",
    "        sess.run(init) \n",
    "\n",
    "\n",
    "        for epoch in range(training_epochs): \n",
    "\n",
    "            sess.run(optimizer, feed_dict = {X : x, Y : y}) \n",
    "\n",
    "\n",
    "            writer = tf.summary.FileWriter('./graphs', sess.graph)\n",
    "\n",
    "            # Displaying the result after every 50 epochs \n",
    "            if (epoch + 1) % 500 == 0: \n",
    "                # Calculating the cost a every epoch \n",
    "                c = sess.run(cost, feed_dict = {X : x, Y : y}) \n",
    "                print(\"Epoch\", (epoch + 1), \": cost =\", c, \"W =\", sess.run(W), \"b =\", sess.run(b)) \n",
    "            writer.close()\n",
    "        # Storing necessary values to be used outside the Session \n",
    "        #training_cost = sess.run(cost, feed_dict ={X: x, Y: y}) \n",
    "        #weight = sess.run(W) \n",
    "        #bias = sess.run(b) \n"
   ]
  },
  {
   "cell_type": "code",
   "execution_count": 7,
   "metadata": {},
   "outputs": [
    {
     "name": "stdout",
     "output_type": "stream",
     "text": [
      "Utilizando 1 como taza de aprendizaje\n",
      "WARNING:tensorflow:From C:\\Users\\Kev\\Anaconda3\\envs\\maestriatf\\lib\\site-packages\\tensorflow\\python\\framework\\op_def_library.py:263: colocate_with (from tensorflow.python.framework.ops) is deprecated and will be removed in a future version.\n",
      "Instructions for updating:\n",
      "Colocations handled automatically by placer.\n",
      "WARNING:tensorflow:From C:\\Users\\Kev\\Anaconda3\\envs\\maestriatf\\lib\\site-packages\\tensorflow\\python\\ops\\math_ops.py:3066: to_int32 (from tensorflow.python.ops.math_ops) is deprecated and will be removed in a future version.\n",
      "Instructions for updating:\n",
      "Use tf.cast instead.\n",
      "Epoch 500 : cost = 1044363.25 W = 36850.8 b = -41641.715\n"
     ]
    }
   ],
   "source": [
    "print(\"Utilizando 1 como taza de aprendizaje\")\n",
    "regresionTensorFlow(x,y,1)\n",
    "\n",
    "#print(\"Utilizando 0.1 como taza de aprendizaje\")\n",
    "#regresionTensorFlow(x,y,0.1)\n",
    "\n",
    "#print(\"Utilizando 0.01 como taza de aprendizaje\")\n",
    "#regresionTensorFlow(x,y,0.01)\n"
   ]
  },
  {
   "cell_type": "code",
   "execution_count": 8,
   "metadata": {},
   "outputs": [
    {
     "ename": "NameError",
     "evalue": "name 'weight' is not defined",
     "output_type": "error",
     "traceback": [
      "\u001b[1;31m---------------------------------------------------------------------------\u001b[0m",
      "\u001b[1;31mNameError\u001b[0m                                 Traceback (most recent call last)",
      "\u001b[1;32m<ipython-input-8-fd15f322950b>\u001b[0m in \u001b[0;36m<module>\u001b[1;34m\u001b[0m\n\u001b[0;32m      1\u001b[0m \u001b[1;31m# Calculating the predictions\u001b[0m\u001b[1;33m\u001b[0m\u001b[1;33m\u001b[0m\u001b[1;33m\u001b[0m\u001b[0m\n\u001b[1;32m----> 2\u001b[1;33m \u001b[0mpredictions\u001b[0m \u001b[1;33m=\u001b[0m \u001b[0mweight\u001b[0m \u001b[1;33m*\u001b[0m \u001b[0mx\u001b[0m \u001b[1;33m+\u001b[0m \u001b[0mbias\u001b[0m\u001b[1;33m\u001b[0m\u001b[1;33m\u001b[0m\u001b[0m\n\u001b[0m\u001b[0;32m      3\u001b[0m \u001b[0mprint\u001b[0m\u001b[1;33m(\u001b[0m\u001b[1;34m\"Costo =\"\u001b[0m\u001b[1;33m,\u001b[0m \u001b[0mtraining_cost\u001b[0m\u001b[1;33m,\u001b[0m \u001b[1;34m\"Peso =\"\u001b[0m\u001b[1;33m,\u001b[0m \u001b[0mweight\u001b[0m\u001b[1;33m,\u001b[0m \u001b[1;34m\"sesgo =\"\u001b[0m\u001b[1;33m,\u001b[0m \u001b[0mbias\u001b[0m\u001b[1;33m,\u001b[0m \u001b[1;34m'\\n'\u001b[0m\u001b[1;33m)\u001b[0m\u001b[1;33m\u001b[0m\u001b[1;33m\u001b[0m\u001b[0m\n",
      "\u001b[1;31mNameError\u001b[0m: name 'weight' is not defined"
     ]
    }
   ],
   "source": [
    "# Calculating the predictions \n",
    "predictions = weight * x + bias \n",
    "print(\"Costo =\", training_cost, \"Peso =\", weight, \"sesgo =\", bias, '\\n') \n"
   ]
  },
  {
   "cell_type": "code",
   "execution_count": null,
   "metadata": {},
   "outputs": [],
   "source": [
    "# Plotting the Results \n",
    "plt.plot(x, y, 'ro', label ='Datos experimentales') \n",
    "plt.plot(x, predictions, label ='Hipótesis') \n",
    "plt.title('Resultado de la regresión lineal') \n",
    "plt.legend() \n",
    "plt.show()"
   ]
  },
  {
   "cell_type": "markdown",
   "metadata": {},
   "source": [
    "<img src=\"https://i.imgur.com/ensT5uu.png\">"
   ]
  },
  {
   "cell_type": "code",
   "execution_count": null,
   "metadata": {},
   "outputs": [],
   "source": []
  }
 ],
 "metadata": {
  "kernelspec": {
   "display_name": "Python 3",
   "language": "python",
   "name": "python3"
  },
  "language_info": {
   "codemirror_mode": {
    "name": "ipython",
    "version": 3
   },
   "file_extension": ".py",
   "mimetype": "text/x-python",
   "name": "python",
   "nbconvert_exporter": "python",
   "pygments_lexer": "ipython3",
   "version": "3.7.3"
  }
 },
 "nbformat": 4,
 "nbformat_minor": 2
}
