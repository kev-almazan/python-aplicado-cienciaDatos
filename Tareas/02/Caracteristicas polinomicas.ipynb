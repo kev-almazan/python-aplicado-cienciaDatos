{
 "cells": [
  {
   "cell_type": "markdown",
   "metadata": {},
   "source": [
    "## Polinomial features"
   ]
  },
  {
   "cell_type": "code",
   "execution_count": 19,
   "metadata": {},
   "outputs": [
    {
     "name": "stdout",
     "output_type": "stream",
     "text": [
      "Tensor de entrada\n",
      "[[0.79386845]\n",
      " [0.77497133]\n",
      " [0.90420326]\n",
      " [0.34969623]\n",
      " [0.07814349]]\n",
      "Características polinómicas de grado 3, para una dimensión\n"
     ]
    },
    {
     "data": {
      "text/html": [
       "<center><table><tr><td>1.00</td><td>0.79</td><td>0.63</td><td>0.50</td></tr><tr><td>1.00</td><td>0.77</td><td>0.60</td><td>0.47</td></tr><tr><td>1.00</td><td>0.90</td><td>0.82</td><td>0.74</td></tr><tr><td>1.00</td><td>0.35</td><td>0.12</td><td>0.04</td></tr><tr><td>1.00</td><td>0.08</td><td>0.01</td><td>0.00</td></tr></table></center>"
      ],
      "text/plain": [
       "<IPython.core.display.HTML object>"
      ]
     },
     "metadata": {},
     "output_type": "display_data"
    },
    {
     "name": "stdout",
     "output_type": "stream",
     "text": [
      "Tensor de entrada\n",
      "[[0.3602924  0.94460525]\n",
      " [0.89025894 0.48088   ]\n",
      " [0.87353763 0.88311864]\n",
      " [0.719444   0.31751354]\n",
      " [0.42812284 0.68334476]]\n",
      "Características polinómicas de grado 3, para dos dimensiones\n"
     ]
    },
    {
     "data": {
      "text/html": [
       "<center><table><tr><td>1.00</td><td>0.36</td><td>0.94</td><td>0.13</td><td>0.34</td><td>0.89</td><td>0.05</td><td>0.12</td><td>0.32</td><td>0.84</td></tr><tr><td>1.00</td><td>0.89</td><td>0.48</td><td>0.79</td><td>0.43</td><td>0.23</td><td>0.71</td><td>0.38</td><td>0.21</td><td>0.11</td></tr><tr><td>1.00</td><td>0.87</td><td>0.88</td><td>0.76</td><td>0.77</td><td>0.78</td><td>0.67</td><td>0.67</td><td>0.68</td><td>0.69</td></tr><tr><td>1.00</td><td>0.72</td><td>0.32</td><td>0.52</td><td>0.23</td><td>0.10</td><td>0.37</td><td>0.16</td><td>0.07</td><td>0.03</td></tr><tr><td>1.00</td><td>0.43</td><td>0.68</td><td>0.18</td><td>0.29</td><td>0.47</td><td>0.08</td><td>0.13</td><td>0.20</td><td>0.32</td></tr></table></center>"
      ],
      "text/plain": [
       "<IPython.core.display.HTML object>"
      ]
     },
     "metadata": {},
     "output_type": "display_data"
    },
    {
     "name": "stdout",
     "output_type": "stream",
     "text": [
      "Tensor de entrada\n",
      "[[0.03695074 0.91348815 0.93060898]\n",
      " [0.36570744 0.87316652 0.59010237]\n",
      " [0.73047841 0.15610629 0.90863581]\n",
      " [0.708895   0.91711378 0.65266474]\n",
      " [0.03999489 0.04934272 0.55943072]]\n",
      "Características polinómicas de grado 3, para dos dimensiones\n"
     ]
    },
    {
     "data": {
      "text/html": [
       "<center><table><tr><td>1.00</td><td>0.04</td><td>0.91</td><td>0.93</td><td>0.00</td><td>0.03</td><td>0.03</td><td>0.83</td><td>0.85</td><td>0.87</td><td>0.00</td><td>0.00</td><td>0.00</td><td>0.03</td><td>0.03</td><td>0.03</td><td>0.76</td><td>0.78</td><td>0.79</td><td>0.81</td></tr><tr><td>1.00</td><td>0.37</td><td>0.87</td><td>0.59</td><td>0.13</td><td>0.32</td><td>0.22</td><td>0.76</td><td>0.52</td><td>0.35</td><td>0.05</td><td>0.12</td><td>0.08</td><td>0.28</td><td>0.19</td><td>0.13</td><td>0.67</td><td>0.45</td><td>0.30</td><td>0.21</td></tr><tr><td>1.00</td><td>0.73</td><td>0.16</td><td>0.91</td><td>0.53</td><td>0.11</td><td>0.66</td><td>0.02</td><td>0.14</td><td>0.83</td><td>0.39</td><td>0.08</td><td>0.48</td><td>0.02</td><td>0.10</td><td>0.60</td><td>0.00</td><td>0.02</td><td>0.13</td><td>0.75</td></tr><tr><td>1.00</td><td>0.71</td><td>0.92</td><td>0.65</td><td>0.50</td><td>0.65</td><td>0.46</td><td>0.84</td><td>0.60</td><td>0.43</td><td>0.36</td><td>0.46</td><td>0.33</td><td>0.60</td><td>0.42</td><td>0.30</td><td>0.77</td><td>0.55</td><td>0.39</td><td>0.28</td></tr><tr><td>1.00</td><td>0.04</td><td>0.05</td><td>0.56</td><td>0.00</td><td>0.00</td><td>0.02</td><td>0.00</td><td>0.03</td><td>0.31</td><td>0.00</td><td>0.00</td><td>0.00</td><td>0.00</td><td>0.00</td><td>0.01</td><td>0.00</td><td>0.00</td><td>0.02</td><td>0.18</td></tr></table></center>"
      ],
      "text/plain": [
       "<IPython.core.display.HTML object>"
      ]
     },
     "metadata": {},
     "output_type": "display_data"
    }
   ],
   "source": [
    "import numpy as np\n",
    "from IPython.display import HTML, display\n",
    "from sklearn.preprocessing import PolynomialFeatures\n",
    "\n",
    "def imprimirTabla (data):\n",
    "    display(HTML(\n",
    "       '<center><table><tr>{}</tr></table></center>'.format(\n",
    "           '</tr><tr>'.join(\n",
    "               '<td>{}</td>'.format('</td><td>'.join(str('%.2f'%(_)) for _ in row)) for row in data)\n",
    "           )\n",
    "    ))\n",
    "\n",
    "#Creación de un array \n",
    "x = np.random.rand(5,1)\n",
    "print(\"Tensor de entrada\")\n",
    "print(x)\n",
    "\n",
    "\n",
    "#Polinomio de grado 3\n",
    "poly = PolynomialFeatures(3)\n",
    "p=poly.fit_transform(x)\n",
    "print(\"Características polinómicas de grado 3, para una dimensión\")\n",
    "imprimirTabla(p)\n",
    "\n",
    "\n",
    "\n",
    "\n",
    "#Creación de un array bidimensional\n",
    "x = np.random.rand(5,2)\n",
    "print(\"Tensor de entrada\")\n",
    "print(x)\n",
    "\n",
    "\n",
    "#Polinomio de grado 3\n",
    "poly = PolynomialFeatures(3)\n",
    "p=poly.fit_transform(x)\n",
    "print(\"Características polinómicas de grado 3, para dos dimensiones\")\n",
    "imprimirTabla(p)\n",
    "\n",
    "\n",
    "\n",
    "\n",
    "#Creación de un array tridimensional\n",
    "x = np.random.rand(5,3)\n",
    "print(\"Tensor de entrada\")\n",
    "print(x)\n",
    "\n",
    "\n",
    "#Polinomio de grado 3\n",
    "poly = PolynomialFeatures(3)\n",
    "p=poly.fit_transform(x)\n",
    "print(\"Características polinómicas de grado 3, para dos dimensiones\")\n",
    "imprimirTabla(p)"
   ]
  },
  {
   "cell_type": "markdown",
   "metadata": {},
   "source": [
    "## Conclusiones\n",
    "La dimensiones hacen que los algoritmos de aprendizaje automático requieran de técnicas adicionales para disminuir el tiempo de procesamiento.\n",
    "Uno de los algoritmos que vimos en clase (k vecinos) se ve afectado por la dimensionalidad, ya que los vecinos más cercanos se irán alejando conforme crezcan las dimensiones\n",
    "Algunos métodos avanzados de estadística conocidos como Métodos de Montecarlo basados en cadenas de Markov ayudan a mitigar parcialmente este problema.\n"
   ]
  },
  {
   "cell_type": "code",
   "execution_count": null,
   "metadata": {},
   "outputs": [],
   "source": []
  }
 ],
 "metadata": {
  "kernelspec": {
   "display_name": "Python 3",
   "language": "python",
   "name": "python3"
  },
  "language_info": {
   "codemirror_mode": {
    "name": "ipython",
    "version": 3
   },
   "file_extension": ".py",
   "mimetype": "text/x-python",
   "name": "python",
   "nbconvert_exporter": "python",
   "pygments_lexer": "ipython3",
   "version": "3.7.3"
  }
 },
 "nbformat": 4,
 "nbformat_minor": 2
}
